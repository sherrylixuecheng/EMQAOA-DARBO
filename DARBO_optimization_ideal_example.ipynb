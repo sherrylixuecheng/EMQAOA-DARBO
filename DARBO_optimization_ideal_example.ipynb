{
 "cells": [
  {
   "cell_type": "markdown",
   "id": "d74888e7",
   "metadata": {},
   "source": [
    "# Quick start--Example codes to run MAX-CUT QAOA\n",
    "\n",
    "This is a notebook designed to provide a quick start for people to run the test experiments faster (without running on a very large system)\n",
    "The code layouts are the same as the python codes (except having no file saving and running on a much smaller graph) that are actually running the experiments reported in the manuscript:\n",
    "\"Error-mitigated Quantum Approximate Optimization via Learning-based Adaptive Optimization\" by Lixue Cheng, Yu-Qin Chen, Shi-Xin Zhang, and Shengyu Zhang.\n"
   ]
  },
  {
   "cell_type": "code",
   "execution_count": 9,
   "id": "4b074f63",
   "metadata": {},
   "outputs": [],
   "source": [
    "import tensorcircuit as tc\n",
    "import tensorflow as tf\n",
    "import cotengra as ctg\n",
    "import optax\n",
    "import networkx as nx\n",
    "import time \n",
    "import numpy as np\n",
    "import torch\n",
    "import os \n",
    "K = tc.set_backend(\"tensorflow\")"
   ]
  },
  {
   "cell_type": "code",
   "execution_count": 10,
   "id": "2b39f33f",
   "metadata": {},
   "outputs": [
    {
     "data": {
      "text/plain": [
       "functools.partial(<function custom at 0x7f86cbb02a60>, optimizer=<cotengra.hyper.ReusableHyperOptimizer object at 0x7f86a0ff4220>, memory_limit=None, debug_level=0, preprocessing=True)"
      ]
     },
     "execution_count": 10,
     "metadata": {},
     "output_type": "execute_result"
    }
   ],
   "source": [
    "# cotengra package to speedup the calculation. This block is not required if your experiments are small\n",
    "opt_ctg = ctg.ReusableHyperOptimizer(\n",
    "    methods=[\"greedy\", \"kahypar\"],\n",
    "    parallel=\"ray\",\n",
    "    minimize=\"combo\",\n",
    "    max_time=1200,\n",
    "    max_repeats=128,\n",
    "    progbar=True,\n",
    ")\n",
    "\n",
    "tc.set_contractor(\"custom\", optimizer=opt_ctg, preprocessing=True)"
   ]
  },
  {
   "cell_type": "code",
   "execution_count": 11,
   "id": "2936a271",
   "metadata": {},
   "outputs": [
    {
     "data": {
      "image/png": "[encoded data removed]",
      "text/plain": [
       "<Figure size 432x288 with 1 Axes>"
      ]
     },
     "metadata": {},
     "output_type": "display_data"
    }
   ],
   "source": [
    "# Generate a graph\n",
    "def dict2graph(d):\n",
    "    g = nx.to_networkx_graph(d)\n",
    "    for e in g.edges:\n",
    "        if not g[e[0]][e[1]].get(\"weight\"):\n",
    "            g[e[0]][e[1]][\"weight\"] = 1.0\n",
    "    nx.draw(g, with_labels=True)\n",
    "    return g\n",
    "\n",
    "# a graph instance\n",
    "example_graph_dict = {\n",
    "    0: {1: {\"weight\": 0.9}, 7: {\"weight\": 0.4}, 3: {\"weight\": 0.38}},\n",
    "    1: {0: {\"weight\": 0.44}, 2: {\"weight\": 0.67}, 3: {\"weight\": 0.62}},\n",
    "    2: {1: {\"weight\": 0.21}, 3: {\"weight\": 0.87}, 5: {\"weight\": 0.72}},\n",
    "    4: {7: {\"weight\": 0.34}, 6: {\"weight\": 0.53}, 5: {\"weight\": 0.45}},\n",
    "    7: {4: {\"weight\": 0.45}, 6: {\"weight\": 0.63}, 0: {\"weight\": 0.59}},\n",
    "    3: {1: {\"weight\": 0.12}, 2: {\"weight\": 0.21}, 0: {\"weight\": 0.68}},\n",
    "    6: {7: {\"weight\": 0.34}, 4: {\"weight\": 0.33}, 5: {\"weight\": 0.96}},\n",
    "    5: {6: {\"weight\": 0.18}, 4: {\"weight\": 0.79}, 2: {\"weight\": 0.17}},\n",
    "}\n",
    "\n",
    "example_graph = dict2graph(example_graph_dict)"
   ]
  },
  {
   "cell_type": "code",
   "execution_count": 12,
   "id": "3a4f978e",
   "metadata": {},
   "outputs": [],
   "source": [
    "# Define QAOA ansatz without shot noises\n",
    "def QAOAansatz(params, g=example_graph):\n",
    "    n = len(g.nodes)  # the number of nodes\n",
    "    c = tc.Circuit(n)\n",
    "    for i in range(n):\n",
    "        c.H(i)\n",
    "    # PQC\n",
    "    for j in range(nlayers):\n",
    "        # U_j\n",
    "        for e in g.edges:\n",
    "            c.exp1(e[0], e[1], unitary=tc.gates._zz_matrix,\n",
    "                theta=g[e[0]][e[1]].get(\"weight\", 1.0) * params[2 * j],)\n",
    "        # V_j\n",
    "        for i in range(n):\n",
    "            c.rx(i, theta=params[2 * j + 1])\n",
    "\n",
    "    # calculate the loss function\n",
    "    loss = 0.0\n",
    "    for e in g.edges:\n",
    "        loss += g[e[0]][e[1]].get(\"weight\") * c.expectation_ps(z=[e[0], e[1]])\n",
    "    return K.real(loss)\n"
   ]
  },
  {
   "cell_type": "markdown",
   "id": "8e8c33c8",
   "metadata": {},
   "source": [
    "## Optimize using Adam"
   ]
  },
  {
   "cell_type": "code",
   "execution_count": 13,
   "id": "bdfab436",
   "metadata": {
    "scrolled": true
   },
   "outputs": [
    {
     "name": "stderr",
     "output_type": "stream",
     "text": [
      "\n",
      "KeyboardInterrupt\n",
      "\n"
     ]
    }
   ],
   "source": [
    "# use vvag to get the losses and gradients with different random circuit instances\n",
    "nlayers = 4  # the number of layers\n",
    "QAOA_vvag = K.jit(tc.backend.vvag(QAOAansatz, argnums=0, vectorized_argnums=0))\n",
    "params = np.random.uniform(low= 0, high= 1, size=[1, 2 * nlayers]) #initialization # initial parameters\n",
    "initial_X = params\n",
    "\n",
    "lr_schedule = tf.keras.optimizers.schedules.ExponentialDecay(\n",
    "    initial_learning_rate=0.01,\n",
    "    decay_steps=100,\n",
    "    decay_rate=0.95,\n",
    "    staircase=False)\n",
    "opt = K.optimizer(tf.keras.optimizers.Adam(learning_rate=lr_schedule))\n",
    "\n",
    "for i in range(100):\n",
    "    loss, grads = QAOA_vvag(params, example_graph)\n",
    "    print(K.numpy(loss))\n",
    "    params = opt.update(grads, params)  # gradient descent"
   ]
  },
  {
   "cell_type": "markdown",
   "id": "e5e7cb6f",
   "metadata": {},
   "source": [
    "## TuRBO optimizer (maximize the -loss)\n"
   ]
  },
  {
   "cell_type": "code",
   "execution_count": null,
   "id": "a63b4b12",
   "metadata": {},
   "outputs": [],
   "source": [
    "QAOA_vvag_nograd = K.jit(QAOAansatz)\n",
    "\n",
    "def eval_objective(x, example_graph):\n",
    "    \"\"\"This is a helper function we use to unnormalize and evalaute a point\"\"\"\n",
    "    a = tf.convert_to_tensor(np.array(x).ravel())\n",
    "    return -QAOA_vvag_nograd(a, example_graph).numpy()"
   ]
  },
  {
   "cell_type": "code",
   "execution_count": 14,
   "id": "286d90f7",
   "metadata": {
    "scrolled": false
   },
   "outputs": [
    {
     "name": "stderr",
     "output_type": "stream",
     "text": [
      "log2[SIZE]: 8.00 log10[FLOPs]: 4.86: 100%|███████████████████████████████████████████████████████████| 128/128 [00:01<00:00, 69.11it/s]\n"
     ]
    }
   ],
   "source": [
    "import odbo\n",
    "# TuRBO settings\n",
    "device = torch.device(\"cuda\" if torch.cuda.is_available() else \"cpu\")\n",
    "dtype = torch.float\n",
    "batch_size, failure_tolerance = 1, 10\n",
    "acqfn='ucb'\n",
    "tr_length= [1.6]\n",
    "\n",
    "## Note TuRBO is working on only [0,1] parameter range, so we need to convert the space \n",
    "## First point by BO is actually just a random selection, to have a better search, we pick the most distant point\n",
    "X_new = []\n",
    "for i in range(initial_X.shape[1]):\n",
    "    if initial_X[0,i] <=0.5:\n",
    "        X_new.append(initial_X[0,i]+0.5)\n",
    "    else:\n",
    "        X_new.append(initial_X[0,i]-0.5)\n",
    "X_new = np.array(X_new).reshape(1, 2 * nlayers) #X_new = np.random.uniform(low= 0, high= 1, size=[1, 2 * nlayers]) if you want a random pick\n",
    "paras = np.vstack([initial_X, X_new])\n",
    "X_turbo = torch.tensor(paras/2/np.pi+0.5) # transform space from [-pi,pi] to [0,1]\n",
    "Y_turbo = torch.tensor([eval_objective(x*2*np.pi-np.pi, example_graph) for x in X_turbo], dtype=dtype, device=device).unsqueeze(-1)\n",
    "## check the transformation is correct\n",
    "assert np.max(np.abs(Y_turbo.numpy().ravel()-[eval_objective(x, example_graph) for x in paras]))<=1e-6\n",
    "# prepare TR state\n",
    "state = odbo.turbo.TurboState(dim=X_turbo.shape[1], batch_size=batch_size, length=tr_length, n_trust_regions=len(tr_length), failure_tolerance = failure_tolerance)\n",
    "state.best_value = Y_turbo.max()\n"
   ]
  },
  {
   "cell_type": "code",
   "execution_count": 15,
   "id": "9d9d600b",
   "metadata": {
    "scrolled": true
   },
   "outputs": [
    {
     "name": "stdout",
     "output_type": "stream",
     "text": [
      "1) New loss: -1.1099e-01 Best loss: -1.1099e-01, TR length: [1.6]\n",
      "2) New loss:  2.9827e-01 Best loss: -1.1099e-01, TR length: [1.6]\n",
      "3) New loss: -2.0681e-01 Best loss: -2.0681e-01, TR length: [1.6]\n",
      "4) New loss: -2.7050e-01 Best loss: -2.7050e-01, TR length: [1.6]\n",
      "5) New loss: -1.5481e-01 Best loss: -2.7050e-01, TR length: [1.6]\n",
      "6) New loss:  2.1909e-01 Best loss: -2.7050e-01, TR length: [1.6]\n",
      "7) New loss: -2.3819e-01 Best loss: -2.7050e-01, TR length: [1.6]\n",
      "8) New loss: -1.3949e-01 Best loss: -2.7050e-01, TR length: [1.6]\n",
      "9) New loss: -6.5859e-02 Best loss: -2.7050e-01, TR length: [1.6]\n",
      "10) New loss: -1.2096e-01 Best loss: -2.7050e-01, TR length: [1.6]\n",
      "11) New loss: -2.6421e-01 Best loss: -2.7050e-01, TR length: [1.6]\n",
      "12) New loss: -1.9172e-01 Best loss: -2.7050e-01, TR length: [1.6]\n",
      "13) New loss: -3.3921e-01 Best loss: -3.3921e-01, TR length: [1.6]\n",
      "14) New loss: -2.1414e-01 Best loss: -3.3921e-01, TR length: [1.6]\n",
      "15) New loss: -6.7441e-02 Best loss: -3.3921e-01, TR length: [1.6]\n",
      "16) New loss: -3.3357e-01 Best loss: -3.3921e-01, TR length: [1.6]\n",
      "17) New loss: -2.9434e-01 Best loss: -3.3921e-01, TR length: [1.6]\n",
      "18) New loss: -4.1344e-01 Best loss: -4.1344e-01, TR length: [1.6]\n",
      "19) New loss: -2.0170e-01 Best loss: -4.1344e-01, TR length: [1.6]\n",
      "20) New loss: -3.4972e-01 Best loss: -4.1344e-01, TR length: [1.6]\n",
      "21) New loss: -3.7984e-01 Best loss: -4.1344e-01, TR length: [1.6]\n",
      "Iter 10/1000: 1.4854394322601956\n",
      "Iter 20/1000: 1.2656862092943426\n",
      "Iter 30/1000: 0.9630966134475983\n"
     ]
    },
    {
     "name": "stderr",
     "output_type": "stream",
     "text": [
      "\n",
      "KeyboardInterrupt\n",
      "\n"
     ]
    }
   ],
   "source": [
    "# TuRBO Optimizer\n",
    "for i in range(100): # run 100 iter optimizations\n",
    "    X_next, acq_value, ids = odbo.run_exp.turbo_design(state=state,X=X_turbo,Y=Y_turbo, n_trust_regions=len(tr_length), batch_size=batch_size, acqfn=acqfn, normalize=False, verbose=False)\n",
    "    X_next = torch.reshape(X_next, [len(tr_length)*batch_size, 2*nlayers])\n",
    "    X_next_paras = X_next*2*np.pi-np.pi\n",
    "    paras = np.vstack([paras, np.array(X_next_paras)])\n",
    "    Y_next = torch.tensor([eval_objective(x,example_graph) for x in X_next_paras], dtype=dtype, device=device)\n",
    "    # Update state\n",
    "    state = odbo.turbo.update_state(state=state, Y_next=torch.reshape(Y_next, [len(tr_length), batch_size, 1]))\n",
    "    X_turbo = torch.cat((X_turbo, X_next), dim=0)\n",
    "    Y_turbo = torch.cat((Y_turbo, Y_next.unsqueeze(-1)), dim=0)\n",
    "    print(f\"{i+1}) New loss: {-Y_next.item(): .4e} Best loss: {-state.best_value:.4e}, TR length: {state.length}\")\n"
   ]
  },
  {
   "cell_type": "markdown",
   "id": "96a1ffd4",
   "metadata": {},
   "source": [
    "## DARBO optimizer"
   ]
  },
  {
   "cell_type": "code",
   "execution_count": 16,
   "id": "3e6fdca3",
   "metadata": {},
   "outputs": [],
   "source": [
    "import odbo\n",
    "# DARBO settings\n",
    "device = torch.device(\"cuda\" if torch.cuda.is_available() else \"cpu\")\n",
    "dtype = torch.float\n",
    "batch_size, failure_tolerance = 1, 10\n",
    "acqfn='ucb'\n",
    "tr_length= [1.6]\n",
    "switch, switch_counter = 'small', 0\n",
    "\n",
    "## Note TR is working on only [0,1] parameter range, so we need to convert the true parameter spaces\n",
    "## First point by BO is actually just a random selection \n",
    "X_new = []\n",
    "for i in range(initial_X.shape[1]):\n",
    "    if initial_X[0,i] <=0.5:\n",
    "        X_new.append(initial_X[0,i]+0.5)\n",
    "    else:\n",
    "        X_new.append(initial_X[0,i]-0.5)\n",
    "X_new = np.array(X_new).reshape(1, 2 * nlayers) #X_new = np.random.uniform(low= 0, high= 1, size=[1, 2 * nlayers]) if you want a random pick\n",
    "\n",
    "paras = np.vstack([initial_X, X_new])\n",
    "if switch == 'large':\n",
    "    X_turbo = torch.tensor(paras/2/np.pi+0.5) # transform space from [-pi,pi] to [0,1]\n",
    "    Y_turbo = torch.tensor([eval_objective(x*2*np.pi-np.pi, example_graph) for x in X_turbo], dtype=dtype, device=device).unsqueeze(-1)\n",
    "if switch == 'small':\n",
    "    X_turbo = torch.tensor(paras/np.pi+0.5) # transform space from [-pi/2,pi/2] to [0,1]\n",
    "    Y_turbo = torch.tensor([eval_objective(x*np.pi-np.pi/2, example_graph) for x in X_turbo], dtype=dtype, device=device).unsqueeze(-1)\n",
    "\n",
    "## check the transformation is correct\n",
    "assert np.max(np.abs(Y_turbo.numpy().ravel()-[eval_objective(x, example_graph) for x in paras]))<=1e-6\n",
    "# prepare TR state\n",
    "state = odbo.turbo.TurboState(dim=X_turbo.shape[1], batch_size=batch_size, length=tr_length, n_trust_regions=len(tr_length), failure_tolerance = failure_tolerance)\n",
    "state.best_value = Y_turbo.max()\n"
   ]
  },
  {
   "cell_type": "code",
   "execution_count": 17,
   "id": "d734e318",
   "metadata": {
    "scrolled": true
   },
   "outputs": [
    {
     "name": "stdout",
     "output_type": "stream",
     "text": [
      "1) New loss:  1.6562e+00 Best loss: 1.2864e+00, TR length: [1.6]\n",
      "2) New loss:  1.2077e+00 Best loss: 1.2077e+00, TR length: [1.6]\n",
      "3) New loss:  1.1775e+00 Best loss: 1.1775e+00, TR length: [1.6]\n",
      "4) New loss:  1.4812e+00 Best loss: 1.1775e+00, TR length: [1.6]\n",
      "5) New loss:  3.0955e-01 Best loss: 3.0955e-01, TR length: [1.6]\n",
      "6) New loss: -4.7282e-01 Best loss: -4.7282e-01, TR length: [1.6]\n",
      "7) New loss: -6.0734e-01 Best loss: -6.0734e-01, TR length: [3.2]\n",
      "8) New loss: -7.8780e-01 Best loss: -7.8780e-01, TR length: [3.2]\n",
      "9) New loss: -5.0299e-01 Best loss: -7.8780e-01, TR length: [3.2]\n",
      "10) New loss: -4.7907e-01 Best loss: -7.8780e-01, TR length: [3.2]\n",
      "11) New loss: -8.8536e-01 Best loss: -8.8536e-01, TR length: [3.2]\n",
      "12) New loss: -5.3385e-01 Best loss: -8.8536e-01, TR length: [3.2]\n",
      "13) New loss: -1.0542e+00 Best loss: -1.0542e+00, TR length: [3.2]\n",
      "14) New loss: -8.8347e-01 Best loss: -1.0542e+00, TR length: [3.2]\n",
      "15) New loss: -1.7151e+00 Best loss: -1.7151e+00, TR length: [3.2]\n",
      "16) New loss: -1.4530e+00 Best loss: -1.7151e+00, TR length: [3.2]\n",
      "17) New loss: -2.1447e+00 Best loss: -2.1447e+00, TR length: [3.2]\n",
      "18) New loss: -1.5339e+00 Best loss: -2.1447e+00, TR length: [3.2]\n",
      "19) New loss: -2.3647e-02 Best loss: -2.1447e+00, TR length: [3.2]\n",
      "20) New loss: -3.6020e-01 Best loss: -2.1447e+00, TR length: [3.2]\n",
      "21) New loss: -8.7993e-01 Best loss: -2.1447e+00, TR length: [3.2]\n",
      "22) New loss: -9.6659e-01 Best loss: -2.1447e+00, TR length: [3.2]\n",
      "23) New loss: -1.3529e+00 Best loss: -2.1447e+00, TR length: [3.2]\n",
      "24) New loss: -1.7545e+00 Best loss: -2.1447e+00, TR length: [3.2]\n",
      "25) New loss: -1.7977e+00 Best loss: -2.1447e+00, TR length: [3.2]\n",
      "26) New loss: -2.5033e+00 Best loss: -2.5033e+00, TR length: [3.2]\n",
      "27) New loss: -2.3856e+00 Best loss: -2.5033e+00, TR length: [3.2]\n",
      "28) New loss: -5.2712e-01 Best loss: -2.5033e+00, TR length: [3.2]\n",
      "29) New loss: -8.6566e-01 Best loss: -2.5033e+00, TR length: [3.2]\n",
      "30) New loss: -9.4243e-01 Best loss: -2.5033e+00, TR length: [3.2]\n",
      "31) New loss: -9.4162e-01 Best loss: -2.5033e+00, TR length: [3.2]\n",
      "32) New loss: -2.6155e+00 Best loss: -2.6155e+00, TR length: [3.2]\n",
      "33) New loss: -2.3250e+00 Best loss: -2.6155e+00, TR length: [3.2]\n",
      "34) New loss: -2.2012e+00 Best loss: -2.6155e+00, TR length: [3.2]\n",
      "35) New loss: -2.5180e+00 Best loss: -2.6155e+00, TR length: [3.2]\n",
      "36) New loss: -2.4186e+00 Best loss: -2.6155e+00, TR length: [3.2]\n",
      "37) New loss: -9.4818e-01 Best loss: -2.6155e+00, TR length: [3.2]\n",
      "38) New loss: -9.9467e-01 Best loss: -2.6155e+00, TR length: [3.2]\n",
      "39) New loss: -9.5725e-01 Best loss: -2.6155e+00, TR length: [3.2]\n",
      "40) New loss: -1.0634e+00 Best loss: -2.6155e+00, TR length: [3.2]\n",
      "41) New loss: -2.4243e+00 Best loss: -2.6155e+00, TR length: [3.2]\n",
      "42) New loss: -2.6979e+00 Best loss: -2.6979e+00, TR length: [3.2]\n",
      "43) New loss: -2.6335e+00 Best loss: -2.6979e+00, TR length: [3.2]\n",
      "44) New loss: -2.7460e+00 Best loss: -2.7460e+00, TR length: [3.2]\n",
      "45) New loss: -2.8454e+00 Best loss: -2.8454e+00, TR length: [3.2]\n",
      "46) New loss: -2.8519e+00 Best loss: -2.8519e+00, TR length: [3.2]\n",
      "47) New loss: -2.8245e+00 Best loss: -2.8519e+00, TR length: [3.2]\n",
      "48) New loss: -3.0083e+00 Best loss: -3.0083e+00, TR length: [3.2]\n",
      "49) New loss: -3.0288e+00 Best loss: -3.0288e+00, TR length: [3.2]\n",
      "50) New loss: -3.0105e+00 Best loss: -3.0288e+00, TR length: [3.2]\n",
      "51) New loss: -9.6569e-01 Best loss: -3.0288e+00, TR length: [3.2]\n",
      "52) New loss: -1.0156e+00 Best loss: -3.0288e+00, TR length: [3.2]\n",
      "53) New loss: -1.0942e+00 Best loss: -3.0288e+00, TR length: [3.2]\n",
      "54) New loss: -1.0936e+00 Best loss: -3.0288e+00, TR length: [3.2]\n",
      "55) New loss: -3.0426e+00 Best loss: -3.0426e+00, TR length: [3.2]\n",
      "Iter 10/1000: 1.4824115117127097\n",
      "Iter 20/1000: 1.248003135564302\n",
      "Iter 30/1000: 0.9318780515321741\n",
      "Iter 40/1000: 0.44981791440299373\n",
      "The scipy optimizer and minimum inferred noises cannot make the kernel PSD, switch to torch optimizer\n",
      "56) New loss: -2.6469e+00 Best loss: -3.0426e+00, TR length: [3.2]\n",
      "57) New loss: -3.0377e+00 Best loss: -3.0426e+00, TR length: [3.2]\n",
      "58) New loss: -3.0515e+00 Best loss: -3.0515e+00, TR length: [3.2]\n",
      "59) New loss: -3.0574e+00 Best loss: -3.0574e+00, TR length: [3.2]\n",
      "60) New loss: -3.0624e+00 Best loss: -3.0624e+00, TR length: [3.2]\n",
      "61) New loss: -3.0631e+00 Best loss: -3.0631e+00, TR length: [3.2]\n",
      "62) New loss: -3.0619e+00 Best loss: -3.0631e+00, TR length: [3.2]\n",
      "63) New loss: -3.0605e+00 Best loss: -3.0631e+00, TR length: [3.2]\n",
      "64) New loss: -1.0972e+00 Best loss: -3.0631e+00, TR length: [3.2]\n",
      "65) New loss: -1.1008e+00 Best loss: -3.0631e+00, TR length: [3.2]\n",
      "66) New loss: -1.0944e+00 Best loss: -3.0631e+00, TR length: [3.2]\n",
      "67) New loss: -1.1043e+00 Best loss: -3.0631e+00, TR length: [3.2]\n",
      "68) New loss: -3.0610e+00 Best loss: -3.0631e+00, TR length: [3.2]\n",
      "69) New loss: -3.0598e+00 Best loss: -3.0631e+00, TR length: [3.2]\n",
      "70) New loss: -3.0599e+00 Best loss: -3.0631e+00, TR length: [3.2]\n",
      "71) New loss: -3.0637e+00 Best loss: -3.0637e+00, TR length: [3.2]\n",
      "72) New loss: -3.0644e+00 Best loss: -3.0644e+00, TR length: [3.2]\n",
      "73) New loss: -3.0650e+00 Best loss: -3.0650e+00, TR length: [3.2]\n",
      "74) New loss: -3.0656e+00 Best loss: -3.0656e+00, TR length: [3.2]\n",
      "75) New loss: -3.0662e+00 Best loss: -3.0662e+00, TR length: [3.2]\n",
      "76) New loss: -3.0664e+00 Best loss: -3.0664e+00, TR length: [3.2]\n",
      "77) New loss: -3.0664e+00 Best loss: -3.0664e+00, TR length: [3.2]\n",
      "78) New loss: -3.0658e+00 Best loss: -3.0664e+00, TR length: [3.2]\n",
      "79) New loss: -1.1036e+00 Best loss: -3.0664e+00, TR length: [3.2]\n",
      "80) New loss: -1.1045e+00 Best loss: -3.0664e+00, TR length: [3.2]\n",
      "81) New loss: -1.1046e+00 Best loss: -3.0664e+00, TR length: [3.2]\n",
      "82) New loss: -1.0995e+00 Best loss: -3.0664e+00, TR length: [3.2]\n",
      "83) New loss: -3.0669e+00 Best loss: -3.0669e+00, TR length: [3.2]\n",
      "84) New loss: -3.0691e+00 Best loss: -3.0691e+00, TR length: [3.2]\n",
      "85) New loss: -3.0691e+00 Best loss: -3.0691e+00, TR length: [3.2]\n",
      "86) New loss: -3.0697e+00 Best loss: -3.0697e+00, TR length: [3.2]\n",
      "87) New loss: -3.0701e+00 Best loss: -3.0701e+00, TR length: [3.2]\n",
      "88) New loss: -3.0699e+00 Best loss: -3.0701e+00, TR length: [3.2]\n",
      "89) New loss: -3.0708e+00 Best loss: -3.0708e+00, TR length: [3.2]\n",
      "90) New loss: -3.0713e+00 Best loss: -3.0713e+00, TR length: [3.2]\n",
      "91) New loss: -3.0714e+00 Best loss: -3.0714e+00, TR length: [3.2]\n",
      "92) New loss: -3.0710e+00 Best loss: -3.0714e+00, TR length: [3.2]\n",
      "93) New loss: -3.0712e+00 Best loss: -3.0714e+00, TR length: [3.2]\n",
      "94) New loss: -3.0716e+00 Best loss: -3.0716e+00, TR length: [3.2]\n",
      "95) New loss: -3.0713e+00 Best loss: -3.0716e+00, TR length: [3.2]\n",
      "96) New loss: -1.1075e+00 Best loss: -3.0716e+00, TR length: [3.2]\n",
      "97) New loss: -1.1093e+00 Best loss: -3.0716e+00, TR length: [3.2]\n",
      "98) New loss: -1.1124e+00 Best loss: -3.0716e+00, TR length: [3.2]\n",
      "99) New loss: -1.1173e+00 Best loss: -3.0716e+00, TR length: [3.2]\n",
      "100) New loss: -3.0716e+00 Best loss: -3.0716e+00, TR length: [3.2]\n"
     ]
    }
   ],
   "source": [
    "# DARBO Optimizer (we only show the 2 searching region case)\n",
    "for i in range(100):\n",
    "    # check if we need to switch the searching parameter range.\n",
    "    if switch_counter >=4:\n",
    "        if switch == 'small':\n",
    "            switch = 'large'\n",
    "            X_turbo = X_turbo/2\n",
    "        else:\n",
    "            switch = 'small'\n",
    "            X_turbo = X_turbo*2\n",
    "        switch_counter = 0\n",
    "    \n",
    "    X_next, acq_value, ids = odbo.run_exp.turbo_design(state=state,X=X_turbo,Y=Y_turbo, n_trust_regions=len(tr_length), batch_size=batch_size, acqfn=acqfn, normalize=False, verbose=False)\n",
    "    X_next = torch.reshape(X_next, [len(tr_length)*batch_size, 2*nlayers])\n",
    "    if switch == 'small':\n",
    "        X_next_paras = X_next*np.pi-np.pi/2      \n",
    "    else:\n",
    "        X_next_paras = X_next*2*np.pi-np.pi\n",
    "    paras = np.vstack([paras, np.array(X_next_paras)])\n",
    "    Y_next = torch.tensor([eval_objective(x,example_graph) for x in X_next_paras], dtype=dtype, device=device)\n",
    "    if np.max(np.array(Y_next)) < np.max(np.array(Y_turbo)):\n",
    "        switch_counter = switch_counter + 1\n",
    "        \n",
    "    # Update state\n",
    "    state = odbo.turbo.update_state(state=state, Y_next=torch.reshape(Y_next, [len(tr_length), batch_size, 1]))\n",
    "    X_turbo = torch.cat((X_turbo, X_next), dim=0)\n",
    "    Y_turbo = torch.cat((Y_turbo, Y_next.unsqueeze(-1)), dim=0)\n",
    "    # Check if this search is a failure or not. Fail then add a switch counter\n",
    "    print(f\"{i+1}) New loss: {-Y_next.item(): .4e} Best loss: {-state.best_value:.4e}, TR length: {state.length}\")\n"
   ]
  },
  {
   "cell_type": "code",
   "execution_count": null,
   "id": "a12827f7",
   "metadata": {},
   "outputs": [],
   "source": []
  }
 ],
 "metadata": {
  "kernelspec": {
   "display_name": "Python 3 (ipykernel)",
   "language": "python",
   "name": "python3"
  },
  "language_info": {
   "codemirror_mode": {
    "name": "ipython",
    "version": 3
   },
   "file_extension": ".py",
   "mimetype": "text/x-python",
   "name": "python",
   "nbconvert_exporter": "python",
   "pygments_lexer": "ipython3",
   "version": "3.9.12"
  }
 },
 "nbformat": 4,
 "nbformat_minor": 5
}
